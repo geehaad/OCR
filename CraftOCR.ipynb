{
  "nbformat": 4,
  "nbformat_minor": 0,
  "metadata": {
    "colab": {
      "name": "CraftOCR.ipynb",
      "provenance": [],
      "authorship_tag": "ABX9TyPrdkg3q2J0H2gw1qWqrJAL",
      "include_colab_link": true
    },
    "kernelspec": {
      "name": "python3",
      "display_name": "Python 3"
    },
    "language_info": {
      "name": "python"
    },
    "accelerator": "GPU"
  },
  "cells": [
    {
      "cell_type": "markdown",
      "metadata": {
        "id": "view-in-github",
        "colab_type": "text"
      },
      "source": [
        "<a href=\"https://colab.research.google.com/github/geehaad/OCR/blob/main/CraftOCR.ipynb\" target=\"_parent\"><img src=\"https://colab.research.google.com/assets/colab-badge.svg\" alt=\"Open In Colab\"/></a>"
      ]
    },
    {
      "cell_type": "code",
      "metadata": {
        "colab": {
          "base_uri": "https://localhost:8080/"
        },
        "id": "pf_XJwctzgcD",
        "outputId": "c6df934f-627f-4003-f692-1de3644c2332"
      },
      "source": [
        "!git clone https://github.com/clovaai/CRAFT-pytorch"
      ],
      "execution_count": 3,
      "outputs": [
        {
          "output_type": "stream",
          "name": "stdout",
          "text": [
            "fatal: destination path 'CRAFT-pytorch' already exists and is not an empty directory.\n"
          ]
        }
      ]
    },
    {
      "cell_type": "code",
      "metadata": {
        "colab": {
          "base_uri": "https://localhost:8080/"
        },
        "id": "X0O_KAFwzoSk",
        "outputId": "94820ca3-7cf6-4016-eb3d-c46486c20411"
      },
      "source": [
        "pip install -r /content/CRAFT-pytorch/requirements.txt"
      ],
      "execution_count": 1,
      "outputs": [
        {
          "output_type": "stream",
          "name": "stdout",
          "text": [
            "Requirement already satisfied: torch==1.9.0 in /usr/local/lib/python3.7/dist-packages (from -r /content/CRAFT-pytorch/requirements.txt (line 1)) (1.9.0)\n",
            "Requirement already satisfied: torchvision==0.2.1 in /usr/local/lib/python3.7/dist-packages (from -r /content/CRAFT-pytorch/requirements.txt (line 2)) (0.2.1)\n",
            "Requirement already satisfied: opencv-python==3.4.2.17 in /usr/local/lib/python3.7/dist-packages (from -r /content/CRAFT-pytorch/requirements.txt (line 3)) (3.4.2.17)\n",
            "Requirement already satisfied: scikit-image==0.14.2 in /usr/local/lib/python3.7/dist-packages (from -r /content/CRAFT-pytorch/requirements.txt (line 4)) (0.14.2)\n",
            "Requirement already satisfied: scipy==1.1.0 in /usr/local/lib/python3.7/dist-packages (from -r /content/CRAFT-pytorch/requirements.txt (line 5)) (1.1.0)\n",
            "Requirement already satisfied: typing-extensions in /usr/local/lib/python3.7/dist-packages (from torch==1.9.0->-r /content/CRAFT-pytorch/requirements.txt (line 1)) (3.7.4.3)\n",
            "Requirement already satisfied: pillow>=4.1.1 in /usr/local/lib/python3.7/dist-packages (from torchvision==0.2.1->-r /content/CRAFT-pytorch/requirements.txt (line 2)) (7.1.2)\n",
            "Requirement already satisfied: numpy in /usr/local/lib/python3.7/dist-packages (from torchvision==0.2.1->-r /content/CRAFT-pytorch/requirements.txt (line 2)) (1.19.5)\n",
            "Requirement already satisfied: six in /usr/local/lib/python3.7/dist-packages (from torchvision==0.2.1->-r /content/CRAFT-pytorch/requirements.txt (line 2)) (1.15.0)\n",
            "Requirement already satisfied: PyWavelets>=0.4.0 in /usr/local/lib/python3.7/dist-packages (from scikit-image==0.14.2->-r /content/CRAFT-pytorch/requirements.txt (line 4)) (1.1.1)\n",
            "Requirement already satisfied: networkx>=1.8 in /usr/local/lib/python3.7/dist-packages (from scikit-image==0.14.2->-r /content/CRAFT-pytorch/requirements.txt (line 4)) (2.6.3)\n",
            "Requirement already satisfied: dask[array]>=1.0.0 in /usr/local/lib/python3.7/dist-packages (from scikit-image==0.14.2->-r /content/CRAFT-pytorch/requirements.txt (line 4)) (2.12.0)\n",
            "Requirement already satisfied: matplotlib>=2.0.0 in /usr/local/lib/python3.7/dist-packages (from scikit-image==0.14.2->-r /content/CRAFT-pytorch/requirements.txt (line 4)) (3.2.2)\n",
            "Requirement already satisfied: cloudpickle>=0.2.1 in /usr/local/lib/python3.7/dist-packages (from scikit-image==0.14.2->-r /content/CRAFT-pytorch/requirements.txt (line 4)) (1.3.0)\n",
            "Requirement already satisfied: toolz>=0.7.3 in /usr/local/lib/python3.7/dist-packages (from dask[array]>=1.0.0->scikit-image==0.14.2->-r /content/CRAFT-pytorch/requirements.txt (line 4)) (0.11.1)\n",
            "Requirement already satisfied: python-dateutil>=2.1 in /usr/local/lib/python3.7/dist-packages (from matplotlib>=2.0.0->scikit-image==0.14.2->-r /content/CRAFT-pytorch/requirements.txt (line 4)) (2.8.2)\n",
            "Requirement already satisfied: kiwisolver>=1.0.1 in /usr/local/lib/python3.7/dist-packages (from matplotlib>=2.0.0->scikit-image==0.14.2->-r /content/CRAFT-pytorch/requirements.txt (line 4)) (1.3.2)\n",
            "Requirement already satisfied: pyparsing!=2.0.4,!=2.1.2,!=2.1.6,>=2.0.1 in /usr/local/lib/python3.7/dist-packages (from matplotlib>=2.0.0->scikit-image==0.14.2->-r /content/CRAFT-pytorch/requirements.txt (line 4)) (2.4.7)\n",
            "Requirement already satisfied: cycler>=0.10 in /usr/local/lib/python3.7/dist-packages (from matplotlib>=2.0.0->scikit-image==0.14.2->-r /content/CRAFT-pytorch/requirements.txt (line 4)) (0.10.0)\n"
          ]
        }
      ]
    },
    {
      "cell_type": "code",
      "metadata": {
        "colab": {
          "base_uri": "https://localhost:8080/"
        },
        "id": "KzJHCj-_z922",
        "outputId": "482f3f8b-5ab1-4f92-97c3-21884fbce01b"
      },
      "source": [
        "!python /content/CRAFT-pytorch/test.py --trained_model=/content/CRAFT-pytorch/craft_ic15_20k.pth --test_folder=/content/CRAFT-pytorch/img"
      ],
      "execution_count": 4,
      "outputs": [
        {
          "output_type": "stream",
          "name": "stdout",
          "text": [
            "Loading weights from checkpoint (/content/CRAFT-pytorch/craft_ic15_20k.pth)\n",
            "/usr/local/lib/python3.7/dist-packages/torch/nn/functional.py:718: UserWarning: Named tensors and all their associated APIs are an experimental feature and subject to change. Please do not use them for anything important until they are released as stable. (Triggered internally at  /pytorch/c10/core/TensorImpl.h:1156.)\n",
            "  return torch.max_pool2d(input, kernel_size, stride, padding, dilation, ceil_mode)\n",
            "elapsed time : 12.162322759628296s\n"
          ]
        }
      ]
    },
    {
      "cell_type": "code",
      "metadata": {
        "id": "yVu_UC3c6nPX"
      },
      "source": [
        "# !pip install torch==1.9.0"
      ],
      "execution_count": null,
      "outputs": []
    },
    {
      "cell_type": "code",
      "metadata": {
        "id": "a2--vTVYB6pk"
      },
      "source": [
        "# !install -c pytorch pytorch=1.9.0"
      ],
      "execution_count": null,
      "outputs": []
    },
    {
      "cell_type": "code",
      "metadata": {
        "id": "CY5JAP0aDCBA"
      },
      "source": [
        "#  pip uninstall torch"
      ],
      "execution_count": null,
      "outputs": []
    },
    {
      "cell_type": "code",
      "metadata": {
        "id": "-NftabnviNdk"
      },
      "source": [
        "# import torch\n",
        "# print(torch.__version__)"
      ],
      "execution_count": null,
      "outputs": []
    },
    {
      "cell_type": "code",
      "metadata": {
        "id": "6_Y3iS83l0j0"
      },
      "source": [
        ""
      ],
      "execution_count": null,
      "outputs": []
    }
  ]
}