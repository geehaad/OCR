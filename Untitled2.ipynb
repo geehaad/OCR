{
 "cells": [
  {
   "cell_type": "code",
   "execution_count": 12,
   "metadata": {},
   "outputs": [
    {
     "name": "stdout",
     "output_type": "stream",
     "text": [
      "Requirement already satisfied: pyocr in d:\\programdata\\anaconda3\\lib\\site-packages (0.8)\n",
      "Requirement already satisfied: Pillow in d:\\programdata\\anaconda3\\lib\\site-packages (from pyocr) (8.0.1)\n",
      "Note: you may need to restart the kernel to use updated packages.\n"
     ]
    }
   ],
   "source": [
    "pip install pyocr"
   ]
  },
  {
   "cell_type": "code",
   "execution_count": null,
   "metadata": {},
   "outputs": [],
   "source": []
  },
  {
   "cell_type": "code",
   "execution_count": 9,
   "metadata": {},
   "outputs": [
    {
     "ename": "NameError",
     "evalue": "name 'tool' is not defined",
     "output_type": "error",
     "traceback": [
      "\u001b[1;31m---------------------------------------------------------------------------\u001b[0m",
      "\u001b[1;31mNameError\u001b[0m                                 Traceback (most recent call last)",
      "\u001b[1;32m<ipython-input-9-507d41b19169>\u001b[0m in \u001b[0;36m<module>\u001b[1;34m\u001b[0m\n\u001b[1;32m----> 1\u001b[1;33m txt = tool.image_to_string(\n\u001b[0m\u001b[0;32m      2\u001b[0m     \u001b[0mImage\u001b[0m\u001b[1;33m.\u001b[0m\u001b[0mopen\u001b[0m\u001b[1;33m(\u001b[0m\u001b[1;34m'test.png'\u001b[0m\u001b[1;33m)\u001b[0m\u001b[1;33m,\u001b[0m\u001b[1;33m\u001b[0m\u001b[1;33m\u001b[0m\u001b[0m\n\u001b[0;32m      3\u001b[0m     \u001b[0mlang\u001b[0m\u001b[1;33m=\u001b[0m\u001b[0mlang\u001b[0m\u001b[1;33m,\u001b[0m\u001b[1;33m\u001b[0m\u001b[1;33m\u001b[0m\u001b[0m\n\u001b[0;32m      4\u001b[0m     \u001b[0mbuilder\u001b[0m\u001b[1;33m=\u001b[0m\u001b[0mpyocr\u001b[0m\u001b[1;33m.\u001b[0m\u001b[0mbuilders\u001b[0m\u001b[1;33m.\u001b[0m\u001b[0mTextBuilder\u001b[0m\u001b[1;33m(\u001b[0m\u001b[1;33m)\u001b[0m\u001b[1;33m\u001b[0m\u001b[1;33m\u001b[0m\u001b[0m\n\u001b[0;32m      5\u001b[0m )\n",
      "\u001b[1;31mNameError\u001b[0m: name 'tool' is not defined"
     ]
    }
   ],
   "source": [
    "txt = tool.image_to_string(\n",
    "    Image.open('test.png'),\n",
    "    lang=lang,\n",
    "    builder=pyocr.builders.TextBuilder()\n",
    ")\n",
    "# txt is a Python string\n",
    "\n",
    "word_boxes = tool.image_to_string(\n",
    "    Image.open('test.png'),\n",
    "    lang=\"eng\",\n",
    "    builder=pyocr.builders.WordBoxBuilder()\n",
    ")\n",
    "# list of box objects. For each box object:\n",
    "#   box.content is the word in the box\n",
    "#   box.position is its position on the page (in pixels)\n",
    "#\n",
    "# Beware that some OCR tools (Tesseract for instance)\n",
    "# may return empty boxes\n",
    "\n",
    "line_and_word_boxes = tool.image_to_string(\n",
    "    Image.open('test.png'), lang=\"fra\",\n",
    "    builder=pyocr.builders.LineBoxBuilder()\n",
    ")\n",
    "# list of line objects. For each line object:\n",
    "#   line.word_boxes is a list of word boxes (the individual words in the line)\n",
    "#   line.content is the whole text of the line\n",
    "#   line.position is the position of the whole line on the page (in pixels)\n",
    "#\n",
    "# Each word box object has an attribute 'confidence' giving the confidence\n",
    "# score provided by the OCR tool. Confidence score depends entirely on\n",
    "# the OCR tool. Only supported with Tesseract and Libtesseract (always 0\n",
    "# with Cuneiform).\n",
    "#\n",
    "# Beware that some OCR tools (Tesseract for instance) may return boxes\n",
    "# with an empty content.\n",
    "\n",
    "# Digits - Only Tesseract (not 'libtesseract' yet !)\n",
    "digits = tool.image_to_string(\n",
    "    Image.open('test-digits.png'),\n",
    "    lang=lang,\n",
    "    builder=pyocr.tesseract.DigitBuilder()\n",
    ")\n",
    "# digits is a python string\n"
   ]
  },
  {
   "cell_type": "code",
   "execution_count": null,
   "metadata": {},
   "outputs": [],
   "source": []
  }
 ],
 "metadata": {
  "kernelspec": {
   "display_name": "Python 3",
   "language": "python",
   "name": "python3"
  },
  "language_info": {
   "codemirror_mode": {
    "name": "ipython",
    "version": 3
   },
   "file_extension": ".py",
   "mimetype": "text/x-python",
   "name": "python",
   "nbconvert_exporter": "python",
   "pygments_lexer": "ipython3",
   "version": "3.8.5"
  }
 },
 "nbformat": 4,
 "nbformat_minor": 4
}
